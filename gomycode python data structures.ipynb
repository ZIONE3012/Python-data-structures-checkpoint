{
 "cells": [
  {
   "cell_type": "code",
   "execution_count": null,
   "id": "c7420bf5-2c25-408f-b6a5-9da74b822d98",
   "metadata": {},
   "outputs": [],
   "source": [
    "shopping_list= [\"chocolates\", \"perfumes\", \"flowers\", \"juice\"]\n",
    "def groceries_list():\n",
    "    print(\"what do you like to do today: \\n1. Add to shopping list \\2. Remove from shopping list \\3. View item in shopping list \\4. Exit\")\n",
    "\n",
    "\n",
    "while True:\n",
    "    choice= int(input(\"make a selection from the above options: \"))\n",
    "    if choice == 1:\n",
    "        if len(shopping_list) in range(10):\n",
    "            add_to_shopping_list = input(\"what would you like to add to the shopping list: \")\n",
    "            shopping_list.append(add_to_shopping_list)\n",
    "            break\n",
    "        else:\n",
    "            print(\"shopping list already full\")\n",
    "    elif choice == 2:\n",
    "        remove_from_list = input(\"what would you like to remove from list: \")\n",
    "        if remove_from_list in shopping_list:\n",
    "            shopping_list.remove(remove_from_list)\n",
    "            break\n",
    "        else:\n",
    "            print(\"item not found\")\n",
    "    elif choice == 3:\n",
    "        for item in shopping_list:\n",
    "            print(shopping_list)\n",
    "            break\n",
    "    elif choice == 4:\n",
    "        print(\"Thanks for choosing us\")\n",
    "        break\n",
    "    else:\n",
    "        print(\"invalid,choose a valid option from 1 to 4\")\n",
    "        \n",
    "print(shopping_list)\n",
    "groceries_list()"
   ]
  }
 ],
 "metadata": {
  "kernelspec": {
   "display_name": "Python 3 (ipykernel)",
   "language": "python",
   "name": "python3"
  },
  "language_info": {
   "codemirror_mode": {
    "name": "ipython",
    "version": 3
   },
   "file_extension": ".py",
   "mimetype": "text/x-python",
   "name": "python",
   "nbconvert_exporter": "python",
   "pygments_lexer": "ipython3",
   "version": "3.11.7"
  }
 },
 "nbformat": 4,
 "nbformat_minor": 5
}
